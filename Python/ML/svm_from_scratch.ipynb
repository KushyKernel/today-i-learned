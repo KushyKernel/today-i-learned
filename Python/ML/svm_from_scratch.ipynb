{
 "cells": [
  {
   "cell_type": "markdown",
   "id": "c7ca2af1",
   "metadata": {},
   "source": [
    "# Linear SVM — (Hinge‑loss + Gradient Descent)\n",
    "\n",
    "Implements a *soft‑margin* linear SVM in NumPy by optimising the hinge‑loss\n",
    "with \\(L2\\) regularisation.\n",
    "\n",
    "*(Generated 2025-06-05)*\n"
   ]
  },
  {
   "cell_type": "markdown",
   "id": "32fc3c46",
   "metadata": {},
   "source": [
    "## 1. Synthetic separable-ish dataset"
   ]
  },
  {
   "cell_type": "code",
   "execution_count": 6,
   "id": "62d49426",
   "metadata": {},
   "outputs": [],
   "source": [
    "import numpy as np\n",
    "import matplotlib.pyplot as plt\n",
    "\n",
    "# Set random seed for reproducibility\n",
    "np.random.seed(2)\n",
    "\n",
    "# Total number of data points\n",
    "N = 200\n",
    "\n",
    "# -----------------------------\n",
    "# 🔵 Generate positive class (+1)\n",
    "# -----------------------------\n",
    "# 100 samples drawn from standard normal, shifted to centre at (2, 2)\n",
    "X_pos = np.random.randn(N // 2, 2) + np.array([2, 2])\n",
    "\n",
    "# -----------------------------\n",
    "# 🔴 Generate negative class (−1)\n",
    "# -----------------------------\n",
    "# 100 samples drawn from standard normal, shifted to centre at (−2, −2)\n",
    "X_neg = np.random.randn(N // 2, 2) + np.array([-2, -2])\n",
    "\n",
    "# -----------------------------\n",
    "# 📦 Combine both classes\n",
    "# -----------------------------\n",
    "# Stack feature vectors vertically → shape (200, 2)\n",
    "X = np.vstack([X_pos, X_neg])\n",
    "\n",
    "# Stack corresponding labels → shape (200, 1)\n",
    "# Class +1 for positive samples, -1 for negative\n",
    "y = np.vstack([np.ones((N // 2, 1)), -np.ones((N // 2, 1))])\n",
    "\n"
   ]
  },
  {
   "cell_type": "code",
   "execution_count": 2,
   "id": "a6fca7b9",
   "metadata": {},
   "outputs": [],
   "source": [
    "## 2. Helper functions"
   ]
  },
  {
   "cell_type": "code",
   "execution_count": null,
   "id": "dd47416b",
   "metadata": {},
   "outputs": [],
   "source": [
    "def hinge_loss(w, b, C=1.0):\n",
    "    \"\"\"\n",
    "    Compute the hinge loss for linear SVM.\n",
    "\n",
    "    Args:\n",
    "        w (np.ndarray): Weight vector, shape (D, 1)\n",
    "        b (float): Bias term (scalar)\n",
    "        C (float): Regularisation strength (penalises margin violations)\n",
    "\n",
    "    Returns:\n",
    "        float: Total hinge loss (objective function)\n",
    "    \"\"\"\n",
    "    # 1. Compute the margins for all points\n",
    "    # margin = 1 - yᵢ(wxᵢ + b)\n",
    "    margins = 1 - y * (X @ w + b)  # shape: (N, 1)\n",
    "\n",
    "    # 2. Apply hinge loss (max(0, margin))\n",
    "    # Hinge loss penalises only points inside or beyond the margin\n",
    "    hinge = np.maximum(0, margins)\n",
    "\n",
    "    # 3. Total loss = regularisation + mean hinge penalty\n",
    "    # 0.5 * ||w||² is L2 regularisation (encourages smaller weights)\n",
    "    return 0.5 * np.sum(w**2) + C * np.mean(hinge)\n",
    "\n",
    "\n",
    "def gradients(w, b, C=1.0):\n",
    "    \"\"\"\n",
    "    Compute gradients of hinge loss w.r.t. w and b.\n",
    "\n",
    "    Args:\n",
    "        w (np.ndarray): Weight vector, shape (D, 1)\n",
    "        b (float): Bias term\n",
    "        C (float): Regularisation parameter\n",
    "\n",
    "    Returns:\n",
    "        tuple: (gradient_w, gradient_b)\n",
    "    \"\"\"\n",
    "    # 1. Compute margins for each sample\n",
    "    margins = 1 - y * (X @ w + b)  # shape: (N, 1)\n",
    "\n",
    "    # 2. Indicator: 1 if margin > 0 (misclassified or on-margin), else 0\n",
    "    indicator = (margins > 0).astype(float)  # shape: (N, 1)\n",
    "\n",
    "    # 3. Gradient of loss w.r.t. w:\n",
    "    # First term: derivative of 0.5 * ||w||² = w\n",
    "    # Second term: derivative of hinge loss\n",
    "    # Resulting shape: (D, 1)\n",
    "    d_w = w - C * np.mean((indicator * y) * X, axis=0, keepdims=True).T\n",
    "\n",
    "    # 4. Gradient of loss w.r.t. b:\n",
    "    # Only comes from hinge part (no regularisation on bias)\n",
    "    d_b = - C * np.mean(indicator * y)  # scalar\n",
    "\n",
    "    return d_w, d_b\n",
    "\n"
   ]
  },
  {
   "cell_type": "markdown",
   "id": "0b2517bb",
   "metadata": {},
   "source": [
    "## 3. Training loop"
   ]
  },
  {
   "cell_type": "code",
   "execution_count": 12,
   "id": "9631cce2",
   "metadata": {},
   "outputs": [
    {
     "name": "stdout",
     "output_type": "stream",
     "text": [
      "epoch 0 | loss 0.283\n",
      "epoch 200 | loss 0.179\n",
      "epoch 400 | loss 0.179\n",
      "epoch 600 | loss 0.179\n",
      "epoch 800 | loss 0.179\n",
      "Final w: [0.32175031 0.30189467]  b: -0.011000000000000006\n"
     ]
    }
   ],
   "source": [
    "# ----------------------------\n",
    "# 🏁 Initialisation\n",
    "# ----------------------------\n",
    "\n",
    "# Initialise weights as zero vector (2D because input features are 2D)\n",
    "w = np.zeros((2, 1))\n",
    "\n",
    "# Initialise bias as scalar 0\n",
    "b = 0.0\n",
    "\n",
    "# Set learning rate (step size for updates)\n",
    "lr = 0.1\n",
    "# ----------------------------\n",
    "# 🔁 Training loop (1000 epochs)\n",
    "# ----------------------------\n",
    "for epoch in range(1000):\n",
    "    # Compute gradients of the hinge loss w.r.t. w and b\n",
    "    dw, db = gradients(w, b, C=1.0)\n",
    "\n",
    "    # Update parameters using gradient descent\n",
    "    w -= lr * dw  # move in direction of negative gradient\n",
    "    b -= lr * db\n",
    "\n",
    "    # Every 200 iterations, print current loss\n",
    "    if epoch % 200 == 0:\n",
    "        print(f\"epoch {epoch} | loss {hinge_loss(w, b):.3f}\")\n",
    "        # ----------------------------\n",
    "# ✅ Final output\n",
    "# ----------------------------\n",
    "print(\"Final w:\", w.ravel(), \" b:\", b)\n",
    "\n"
   ]
  },
  {
   "cell_type": "markdown",
   "id": "416a9241",
   "metadata": {},
   "source": [
    "## 4. Plot decision boundary"
   ]
  },
  {
   "cell_type": "code",
   "execution_count": 13,
   "id": "540bd621",
   "metadata": {},
   "outputs": [
    {
     "data": {
      "image/png": "[encoded data removed]",
      "text/plain": [
       "<Figure size 640x480 with 1 Axes>"
      ]
     },
     "metadata": {},
     "output_type": "display_data"
    }
   ],
   "source": [
    "# Create a new plot\n",
    "plt.figure()\n",
    "\n",
    "# Plot positive class points\n",
    "plt.scatter(X_pos[:, 0], X_pos[:, 1], label=\"positive\")\n",
    "\n",
    "# Plot negative class points\n",
    "plt.scatter(X_neg[:, 0], X_neg[:, 1], label=\"negative\")\n",
    "\n",
    "# Create x values for drawing the decision line\n",
    "x_vals = np.linspace(-6, 6, 100)\n",
    "\n",
    "# Calculate y values for the line: w·x + b = 0 → y = -(w0 * x + b) / w1\n",
    "y_vals = -(w[0] * x_vals + b) / w[1]\n",
    "\n",
    "# Draw the decision boundary line\n",
    "plt.plot(x_vals, y_vals, label=\"decision boundary\")\n",
    "\n",
    "# Add legend and title, then show the plot\n",
    "plt.legend()\n",
    "plt.title(\"Linear SVM\")\n",
    "plt.show()\n"
   ]
  }
 ],
 "metadata": {
  "kernelspec": {
   "display_name": "Python 3",
   "language": "python",
   "name": "python3"
  },
  "language_info": {
   "codemirror_mode": {
    "name": "ipython",
    "version": 3
   },
   "file_extension": ".py",
   "mimetype": "text/x-python",
   "name": "python",
   "nbconvert_exporter": "python",
   "pygments_lexer": "ipython3",
   "version": "3.13.1"
  }
 },
 "nbformat": 4,
 "nbformat_minor": 5
}
