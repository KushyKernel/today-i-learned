{
 "cells": [
  {
   "cell_type": "markdown",
   "id": "2bc90b76",
   "metadata": {},
   "source": [
    "# Linear Regression\n",
    "\n",
    "Step‑by‑step NumPy implementation of ordinary least‑squares linear regression\n",
    "using **both**:\n",
    "\n",
    "1. Analytical *Normal Equation*  \n",
    "2. Iterative *Gradient Descent*\n"
   ]
  },
  {
   "cell_type": "markdown",
   "id": "ea5c620b",
   "metadata": {},
   "source": [
    "## 1. Quick Theory Recap\n",
    "\n",
    "### 1.1 Model  \n",
    "\n",
    "\\[\n",
    "\\hat{y} = \\mathbf{x}^{\\top}\\theta\n",
    "\\]\n",
    "\n",
    "### 1.2 Loss (mean‑squared error)  \n",
    "\n",
    "\\[\n",
    "\\mathcal{L}(\\theta) = \\frac{1}{N}\\lVert \\mathbf{y} - \\mathbf{X}\\theta\\rVert_2^{2}\n",
    "\\]\n",
    "\n",
    "### 1.3 Two solutions  \n",
    "\n",
    "* **Normal Equation**  \n",
    "\n",
    "\\[\n",
    "\\theta^{\\*} = (\\mathbf{X}^{\\top}\\mathbf{X})^{-1}\\mathbf{X}^{\\top}\\mathbf{y}\n",
    "\\]\n",
    "\n",
    "* **Gradient Descent**  \n",
    "\n",
    "\\[\n",
    "\\theta \\leftarrow \\theta - \\eta \\nabla_\\theta\\mathcal{L}\n",
    "\\quad\\text{with}\\quad\n",
    "\\nabla_\\theta\\mathcal{L} = -\\frac{2}{N}\\mathbf{X}^{\\top}(\\mathbf{y}-\\mathbf{X}\\theta)\n",
    "\\]"
   ]
  },
  {
   "cell_type": "markdown",
   "id": "b3ce00a1",
   "metadata": {},
   "source": [
    "### 2. Imports & synthetic data"
   ]
  },
  {
   "cell_type": "code",
   "execution_count": 14,
   "id": "71ed80e1",
   "metadata": {},
   "outputs": [
    {
     "name": "stdout",
     "output_type": "stream",
     "text": [
      "Design‑matrix shape: (100, 2) | Target shape: (100, 1)\n"
     ]
    }
   ],
   "source": [
    "\n",
    "# Standard stack\n",
    "import numpy as np\n",
    "import matplotlib.pyplot as plt\n",
    "\n",
    "# 2.1 Reproducibility\n",
    "np.random.seed(0)\n",
    "\n",
    "# 2.2 Ground‑truth line: y = 3x + 4\n",
    "TRUE_W = 3.0\n",
    "TRUE_B = 4.0\n",
    "\n",
    "# 2.3 Draw 100 x values in [0, 2]\n",
    "N_SAMPLES = 100\n",
    "X = 2 * np.random.rand(N_SAMPLES, 1)\n",
    "\n",
    "# 2.4 Add Gaussian noise\n",
    "noise = np.random.randn(N_SAMPLES, 1)\n",
    "\n",
    "# 2.5 Targets\n",
    "y = TRUE_W * X + TRUE_B + noise\n",
    "\n",
    "# 2.6 Design‑matrix with bias column\n",
    "X_b = np.c_[np.ones((N_SAMPLES, 1)), X]\n",
    "\n",
    "print(f'Design‑matrix shape: {X_b.shape} | Target shape: {y.shape}')\n"
   ]
  },
  {
   "cell_type": "markdown",
   "id": "2cf05863",
   "metadata": {},
   "source": [
    "### 3. Helper functions"
   ]
  },
  {
   "cell_type": "code",
   "execution_count": 15,
   "id": "b2bd0658",
   "metadata": {},
   "outputs": [],
   "source": [
    "\n",
    "def predict(X, theta):\n",
    "    \"\"\"Compute ŷ = Xθ.\"\"\"\n",
    "    return X @ theta\n",
    "\n",
    "def mse_loss(theta, X, y):\n",
    "    \"\"\"Mean‑squared error: (1/N) * ||y - Xθ||^2\"\"\"\n",
    "    residuals = y - predict(X, theta)\n",
    "    return np.mean(residuals ** 2)\n",
    "\n",
    "def gradient(theta, X, y):\n",
    "    \"\"\"Analytical gradient of MSE.\"\"\"\n",
    "    residuals = y - predict(X, theta)\n",
    "    return -(2 / len(X)) * X.T @ residuals\n"
   ]
  },
  {
   "cell_type": "markdown",
   "id": "cf7e3342",
   "metadata": {},
   "source": [
    "### 4. Closed‑form solution (Normal Equation)"
   ]
  },
  {
   "cell_type": "code",
   "execution_count": 16,
   "id": "82e42a39",
   "metadata": {},
   "outputs": [
    {
     "name": "stdout",
     "output_type": "stream",
     "text": [
      "θ₀ (bias) [normal eq.] : 4.22215107744723\n",
      "θ₁ (weight) [normal eq.] : 2.968467510701018\n",
      "MSE (Normal Equation): 0.992\n"
     ]
    }
   ],
   "source": [
    "\n",
    "theta_normal = np.linalg.inv(X_b.T @ X_b) @ X_b.T @ y\n",
    "\n",
    "print('θ₀ (bias) [normal eq.] :', theta_normal[0, 0])\n",
    "print('θ₁ (weight) [normal eq.] :', theta_normal[1, 0])\n",
    "\n",
    "normal_mse = mse_loss(theta_normal, X_b, y)\n",
    "print(f'MSE (Normal Equation): {normal_mse:.3f}')\n"
   ]
  },
  {
   "cell_type": "markdown",
   "id": "0bd0b142",
   "metadata": {},
   "source": [
    "### 5. Iterative solution (Gradient Descent)"
   ]
  },
  {
   "cell_type": "code",
   "execution_count": 17,
   "id": "7c60ec04",
   "metadata": {},
   "outputs": [
    {
     "name": "stdout",
     "output_type": "stream",
     "text": [
      "step    0 | loss = 29.1488\n",
      "step  200 | loss = 0.9924\n",
      "step  400 | loss = 0.9924\n",
      "Converged after 510 iterations\n",
      "\n",
      "θ₀ (bias) [grad. desc.] : 4.22215105531418\n",
      "θ₁ (weight) [grad. desc.] : 2.968467530340332\n",
      "MSE (Gradient Descent): 0.992\n"
     ]
    }
   ],
   "source": [
    "\n",
    "LEARNING_RATE = 0.1\n",
    "MAX_ITERS = 1000\n",
    "TOLERANCE = 1e-8\n",
    "\n",
    "theta_gd = np.random.randn(2, 1)\n",
    "\n",
    "for step in range(MAX_ITERS):\n",
    "    grad = gradient(theta_gd, X_b, y)\n",
    "    theta_gd -= LEARNING_RATE * grad\n",
    "\n",
    "    if step % 200 == 0:\n",
    "        print(f'step {step:4d} | loss = {mse_loss(theta_gd, X_b, y):.4f}')\n",
    "\n",
    "    if np.linalg.norm(grad) < TOLERANCE:\n",
    "        print(f'Converged after {step} iterations')\n",
    "        break\n",
    "\n",
    "print('\\nθ₀ (bias) [grad. desc.] :', theta_gd[0, 0])\n",
    "print('θ₁ (weight) [grad. desc.] :', theta_gd[1, 0])\n",
    "\n",
    "gd_mse = mse_loss(theta_gd, X_b, y)\n",
    "print(f'MSE (Gradient Descent): {gd_mse:.3f}')\n"
   ]
  },
  {
   "cell_type": "markdown",
   "id": "3dde45b9",
   "metadata": {},
   "source": [
    "### 6. Visual comparison"
   ]
  },
  {
   "cell_type": "code",
   "execution_count": 18,
   "id": "8310dbd8",
   "metadata": {},
   "outputs": [
    {
     "data": {
      "image/png": "[encoded data removed]",
      "text/plain": [
       "<Figure size 600x400 with 1 Axes>"
      ]
     },
     "metadata": {},
     "output_type": "display_data"
    }
   ],
   "source": [
    "\n",
    "plt.figure(figsize=(6,4))\n",
    "plt.scatter(X, y, label='data', marker='x')\n",
    "\n",
    "x_line = np.array([[0], [2]])\n",
    "x_line_b = np.c_[np.ones((2,1)), x_line]\n",
    "\n",
    "plt.plot(x_line, predict(x_line_b, theta_normal), label='normal eq.', linewidth=2)\n",
    "plt.plot(x_line, predict(x_line_b, theta_gd), label='grad. descent', linestyle='--', linewidth=2)\n",
    "\n",
    "plt.xlabel('x')\n",
    "plt.ylabel('y')\n",
    "plt.title('Linear Regression fit')\n",
    "plt.legend()\n",
    "plt.grid(True, linestyle='--', alpha=0.3)\n",
    "plt.show()\n"
   ]
  },
  {
   "cell_type": "markdown",
   "id": "f8becf74",
   "metadata": {},
   "source": [
    "### 7. Next steps\n",
    "\n",
    "* **Regularisation** – add a \\(\\lambda I\\) term to \\(X^\\top X\\) for Ridge,\n",
    "  or penalise the L1‑norm for Lasso.  \n",
    "* **Polynomial features** – expand \\(x\\) into \\(x^2, x^3, …\\) for non‑linear\n",
    "  trends while keeping linear parameters.  \n",
    "* **Stochastic / Mini‑batch GD** – sample small chunks of data each update for\n",
    "  huge datasets.  \n",
    "* **Online learning** – update parameters in real‑time as new data streams in.\n"
   ]
  }
 ],
 "metadata": {
  "language_info": {
   "name": "python"
  }
 },
 "nbformat": 4,
 "nbformat_minor": 5
}
