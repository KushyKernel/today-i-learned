{
 "cells": [
  {
   "cell_type": "markdown",
   "id": "637d56ce",
   "metadata": {},
   "source": [
    "# Logistic Regression — From Scratch\n",
    "\n",
    "A **line‑by‑line** NumPy implementation revealing exactly how binary logistic\n",
    "regression works under the hood — no scikit‑learn shortcuts.\n"
   ]
  },
  {
   "cell_type": "markdown",
   "id": "f9001c7f",
   "metadata": {},
   "source": [
    "## 1. Quick Theory Recap\n",
    "\n",
    "* **Model**\n",
    "\n",
    "\\[\n",
    "P(y=1 \\mid \\mathbf{x};\\,\\theta) = \\sigma(\\mathbf{x}^{\\top}\\theta)\n",
    "\\quad\\text{where}\\quad\n",
    "\\sigma(z)=\\frac{1}{1+e^{-z}}\n",
    "\\]\n",
    "\n",
    "* **Loss (cross‑entropy)**  \n",
    "\n",
    "\\[\n",
    "\\mathcal{L}(\\theta) =\n",
    "-\\frac{1}{N}\\sum_{i=1}^{N}\n",
    "\\bigl[y_i \\log\\hat{y_i} + (1-y_i)\\log(1-\\hat{y_i})\\bigr]\n",
    "\\]\n",
    "\n",
    "* **Gradient**\n",
    "\n",
    "\\[\n",
    "\\nabla_\\theta\\mathcal{L} = \\frac{1}{N}\\mathbf{X}^{\\top}(\\hat{\\mathbf{y}}-\\mathbf{y})\n",
    "\\]\n",
    "\n",
    "We’ll implement each formula explicitly in Python and iterate with **batch\n",
    "gradient descent** until convergence.\n"
   ]
  },
  {
   "cell_type": "markdown",
   "id": "ed6cd896",
   "metadata": {},
   "source": [
    "### 2. Imports & synthetic data"
   ]
  },
  {
   "cell_type": "code",
   "execution_count": 26,
   "id": "8b1afe1d",
   "metadata": {},
   "outputs": [
    {
     "name": "stdout",
     "output_type": "stream",
     "text": [
      "Design‑matrix shape: (200, 2)  |  Target shape: (200, 1)\n"
     ]
    }
   ],
   "source": [
    "# Standard scientific‑Python stack (no ML libraries)\n",
    "import numpy as np\n",
    "import matplotlib.pyplot as plt\n",
    "\n",
    "# 2‑1. Fix the RNG seed so results are reproducible\n",
    "np.random.seed(42)\n",
    "\n",
    "# 2‑2. Ground‑truth line used to create our *fake* labels\n",
    "TRUE_W = 3.0          # slope\n",
    "TRUE_B = 0.5          # intercept\n",
    "\n",
    "# 2‑3. Draw a single feature x uniformly from [-2, +2]\n",
    "N_SAMPLES = 200\n",
    "X = 4 * np.random.rand(N_SAMPLES, 1) - 2    # shape (N,1)\n",
    "\n",
    "# 2‑4. Convert that x to probability via the *real* logistic model\n",
    "logits = TRUE_W * X + TRUE_B\n",
    "probs  = 1 / (1 + np.exp(-logits))          # sigmoid\n",
    "\n",
    "# 2‑5. Sample a label y ~ Bernoulli(p)\n",
    "y = (np.random.rand(N_SAMPLES, 1) < probs).astype(float)  # shape (N,1)\n",
    "\n",
    "# 2‑6. Add a bias column (x0 ≡ 1) so θ₀ is learnable\n",
    "X_b = np.c_[np.ones((N_SAMPLES, 1)), X]     # shape (N,2)\n",
    "\n",
    "print(f\"Design‑matrix shape: {X_b.shape}  |  Target shape: {y.shape}\")"
   ]
  },
  {
   "cell_type": "markdown",
   "id": "08d46137",
   "metadata": {},
   "source": [
    "### 3. Helper functions"
   ]
  },
  {
   "cell_type": "code",
   "execution_count": 27,
   "id": "fd921ab4",
   "metadata": {},
   "outputs": [],
   "source": [
    "# 3‑1. Sigmoid --------------------------------------------------------------\n",
    "def sigmoid(z: np.ndarray) -> np.ndarray:\n",
    "    '''\n",
    "    Vectorised logistic function.\n",
    "\n",
    "    Parameters\n",
    "    ----------\n",
    "    z : array‑like\n",
    "        Real‑valued input (scalar, vector, or matrix).\n",
    "\n",
    "    Returns\n",
    "    -------\n",
    "    ndarray\n",
    "        σ(z) applied element‑wise.\n",
    "    '''\n",
    "    return 1.0 / (1.0 + np.exp(-z))\n",
    "\n",
    "# 3‑2. Cross‑entropy loss ---------------------------------------------------\n",
    "def loss(theta: np.ndarray, X: np.ndarray, y: np.ndarray) -> float:\n",
    "    '''\n",
    "    Compute average binary cross‑entropy (negative log‑likelihood).\n",
    "\n",
    "    θ  = parameters column‑vector (shape (2,1))\n",
    "    X  = design‑matrix with leading 1s (shape (N,2))\n",
    "    y  = binary labels (shape (N,1))\n",
    "    '''\n",
    "    logits = X @ theta\n",
    "    y_hat  = sigmoid(logits)\n",
    "\n",
    "    # Avoid log(0) by clipping probabilities:\n",
    "    eps = 1e-15\n",
    "    y_hat = np.clip(y_hat, eps, 1 - eps)\n",
    "\n",
    "    return float(-np.mean(y * np.log(y_hat) + (1 - y) * np.log(1 - y_hat)))\n",
    "\n",
    "# 3‑3. Gradient of the loss -------------------------------------------------\n",
    "def gradient(theta: np.ndarray, X: np.ndarray, y: np.ndarray) -> np.ndarray:\n",
    "    '''\n",
    "    Analytical gradient ∇L = (1/N)·Xᵀ(ŷ−y).\n",
    "\n",
    "    Returns the same shape as θ (2,1).\n",
    "    '''\n",
    "    y_hat = sigmoid(X @ theta)\n",
    "    return X.T @ (y_hat - y) / len(X)"
   ]
  },
  {
   "cell_type": "markdown",
   "id": "618894dc",
   "metadata": {},
   "source": [
    "### 4. Training — batch gradient descent"
   ]
  },
  {
   "cell_type": "code",
   "execution_count": 28,
   "id": "c139fdee",
   "metadata": {},
   "outputs": [
    {
     "name": "stdout",
     "output_type": "stream",
     "text": [
      "step     0  |  loss = 0.6724\n",
      "step  1000  |  loss = 0.2860\n",
      "step  2000  |  loss = 0.2860\n",
      "Converged after 2976 iterations\n",
      "\n",
      "Learned parameters\n",
      "------------------\n",
      "θ₀ (bias)   = 0.565\n",
      "θ₁ (weight) = 2.687\n"
     ]
    }
   ],
   "source": [
    "# 4‑1. Hyper‑parameters\n",
    "LEARNING_RATE = 0.1\n",
    "MAX_ITERS     = 10_000\n",
    "TOLERANCE     = 1e-6   # stop when gradient magnitude < this\n",
    "\n",
    "# 4‑2. Parameter initialisation\n",
    "theta = np.zeros((2, 1))    # start at origin [0, 0]^T\n",
    "\n",
    "for step in range(MAX_ITERS):\n",
    "    grad = gradient(theta, X_b, y)       # compute gradient\n",
    "    theta -= LEARNING_RATE * grad        # gradient‑descent update\n",
    "\n",
    "    # Optional: print loss occasionally\n",
    "    if step % 1000 == 0:\n",
    "        current_loss = loss(theta, X_b, y)\n",
    "        print(f\"step {step:5d}  |  loss = {current_loss:.4f}\")\n",
    "\n",
    "    # Early‑stop if the gradient is tiny (we're at/near optimum)\n",
    "    if np.linalg.norm(grad) < TOLERANCE:\n",
    "        print(f\"Converged after {step} iterations\")\n",
    "        break\n",
    "\n",
    "print(\"\\nLearned parameters\")\n",
    "print(\"------------------\")\n",
    "print(f\"θ₀ (bias)   = {theta[0,0]:.3f}\")\n",
    "print(f\"θ₁ (weight) = {theta[1,0]:.3f}\")"
   ]
  },
  {
   "cell_type": "markdown",
   "id": "46f7838e",
   "metadata": {},
   "source": [
    "### 5. Evaluation"
   ]
  },
  {
   "cell_type": "code",
   "execution_count": 29,
   "id": "91a1a222",
   "metadata": {},
   "outputs": [
    {
     "name": "stdout",
     "output_type": "stream",
     "text": [
      "Accuracy on training set : 0.875  (87.5 %)\n",
      "Final cross‑entropy loss : 0.2860\n"
     ]
    }
   ],
   "source": [
    "# 5‑1. Convert probabilities → class predictions (threshold 0.5)\n",
    "y_prob = sigmoid(X_b @ theta)\n",
    "y_pred = (y_prob >= 0.5).astype(float)\n",
    "\n",
    "# 5‑2. Accuracy (fraction of correct labels)\n",
    "accuracy = np.mean(y_pred == y)\n",
    "\n",
    "# 5‑3. Final loss (for curiosity)\n",
    "final_loss = loss(theta, X_b, y)\n",
    "\n",
    "print(f\"Accuracy on training set : {accuracy:.3f}  \"\n",
    "      f\"({accuracy*100:.1f} %)\")\n",
    "print(f\"Final cross‑entropy loss : {final_loss:.4f}\")"
   ]
  },
  {
   "cell_type": "markdown",
   "id": "57f196c5",
   "metadata": {},
   "source": [
    "### 6. Visual sanity‑check"
   ]
  },
  {
   "cell_type": "code",
   "execution_count": 30,
   "id": "0b1f2764",
   "metadata": {},
   "outputs": [
    {
     "data": {
      "image/png": "[encoded data removed]",
      "text/plain": [
       "<Figure size 600x400 with 1 Axes>"
      ]
     },
     "metadata": {},
     "output_type": "display_data"
    }
   ],
   "source": [
    "plt.figure(figsize=(6,4))\n",
    "\n",
    "# Plot raw points (colour by true label)\n",
    "plt.scatter(X[y[:,0]==0], y[y[:,0]==0], label=\"class 0\", marker=\"x\")\n",
    "plt.scatter(X[y[:,0]==1], y[y[:,0]==1], label=\"class 1\", marker=\"o\")\n",
    "\n",
    "# Decision curve — predicted P(y=1|x)\n",
    "x_line = np.linspace(-2, 2, 300).reshape(-1,1)\n",
    "x_line_b = np.c_[np.ones_like(x_line), x_line]\n",
    "y_line = sigmoid(x_line_b @ theta)\n",
    "\n",
    "plt.plot(x_line, y_line, label=\"model probability\", linewidth=2)\n",
    "\n",
    "plt.xlabel(\"feature x\")\n",
    "plt.ylabel(\"probability / class\")\n",
    "plt.ylim(-0.05, 1.05)\n",
    "plt.title(\"Logistic Regression decision curve\")\n",
    "plt.legend()\n",
    "plt.grid(True, linestyle=\"--\", alpha=0.3)\n",
    "plt.show()"
   ]
  },
  {
   "cell_type": "markdown",
   "id": "20545108",
   "metadata": {},
   "source": [
    "### 7. Next steps\n",
    "\n",
    "* **Regularisation** – add \\(\\lambda \\|\\theta\\|^2\\) to the loss for Ridge (L2) or\n",
    "  \\(\\lambda \\|\\theta\\|_1\\) for Lasso (L1) to combat over‑fitting.  \n",
    "* **Mini‑batch / Stochastic GD** – update on small slices of data; crucial for large\n",
    "  datasets.  \n",
    "* **Softmax generalisation** – extend the sigmoid to multi‑class classification.  \n",
    "* **Bayesian Logistic Regression** – treat parameters as random variables and\n",
    "  sample a posterior for calibrated uncertainty estimates.\n"
   ]
  }
 ],
 "metadata": {
  "kernelspec": {
   "display_name": "Python 3",
   "language": "python",
   "name": "python3"
  },
  "language_info": {
   "codemirror_mode": {
    "name": "ipython",
    "version": 3
   },
   "file_extension": ".py",
   "mimetype": "text/x-python",
   "name": "python",
   "nbconvert_exporter": "python",
   "pygments_lexer": "ipython3",
   "version": "3.13.1"
  }
 },
 "nbformat": 4,
 "nbformat_minor": 5
}
