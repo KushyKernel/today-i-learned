{
 "cells": [
  {
   "cell_type": "markdown",
   "id": "37d695b0",
   "metadata": {},
   "source": [
    "# k‑Nearest Neighbours (k‑NN) — From Scratch (Fully Commented)\n",
    "\n",
    "A minimal **NumPy‑only** implementation of the classic **k‑Nearest Neighbours**\n",
    "algorithm for binary classification.  We will:\n",
    "\n",
    "1. Build a 2‑D toy dataset  \n",
    "2. Implement distance computation and voting from first principles  \n",
    "3. Explore how the choice of **k** affects the decision boundary  \n",
    "4. Evaluate accuracy and visualise the results  \n",
    "\n",
    "*(Generated 2025-06-05)*\n"
   ]
  },
  {
   "cell_type": "markdown",
   "id": "18a365d6",
   "metadata": {},
   "source": [
    "## 1. Quick Theory Recap\n",
    "\n",
    "Given a query point **x**, *k*‑NN:\n",
    "\n",
    "* Finds the **k** closest points in the training set (usually Euclidean distance).  \n",
    "* Lets them **vote** — most common label wins (for classification; mean for regression).  \n",
    "\n",
    "No training phase!  All the work happens at query time.\n",
    "\n",
    "The classifier is **non‑parametric** (model complexity grows with data) and the\n",
    "decision boundary can be highly non‑linear.\n"
   ]
  },
  {
   "cell_type": "markdown",
   "id": "b9611615",
   "metadata": {},
   "source": [
    "### 2. Imports & synthetic data"
   ]
  },
  {
   "cell_type": "code",
   "execution_count": 8,
   "id": "80859961",
   "metadata": {},
   "outputs": [
    {
     "name": "stdout",
     "output_type": "stream",
     "text": [
      "Train set: X (200, 5), y (200, 1)\n"
     ]
    }
   ],
   "source": [
    "import numpy as np\n",
    "import matplotlib.pyplot as plt\n",
    "\n",
    "# 1. Set random seed for reproducibility\n",
    "np.random.seed(0)\n",
    "\n",
    "# 2. Parameters\n",
    "N_PER_CLASS = 100\n",
    "FEATURES = 5\n",
    "\n",
    "# 3. Define distinct means for each class\n",
    "mean0 = np.array([-3, -5, 0, 5, 3])    # Class 0\n",
    "mean1 = np.array([4, 1, 4.5, 0.67, 2.44])   # Class 1\n",
    "\n",
    "# 4. Generate data from standard normal, then shift by class mean\n",
    "X0 = np.random.randn(N_PER_CLASS, FEATURES) + mean0\n",
    "X1 = np.random.randn(N_PER_CLASS, FEATURES) + mean1\n",
    "\n",
    "# 5. Combine data and labels\n",
    "X_train = np.vstack([X0, X1])  # shape: (200, 5)\n",
    "y_train = np.hstack([np.zeros(N_PER_CLASS), np.ones(N_PER_CLASS)])  # shape: (200,)\n",
    "y_train = y_train.reshape(-1, 1)  # shape: (200, 1)\n",
    "\n",
    "# 6. Print shape info\n",
    "print(f'Train set: X {X_train.shape}, y {y_train.shape}')"
   ]
  },
  {
   "cell_type": "markdown",
   "id": "2c7c90a2",
   "metadata": {},
   "source": [
    "### 3. Helper functions"
   ]
  },
  {
   "cell_type": "code",
   "execution_count": 9,
   "id": "1ca167f7",
   "metadata": {},
   "outputs": [],
   "source": [
    "def euclidean_distances(X, x_query):\n",
    "    \"\"\"\n",
    "    Compute L2 (Euclidean) distances from each row in X to a single query point x_query.\n",
    "    \n",
    "    Args:\n",
    "        X (np.ndarray): Training data, shape (N, D)\n",
    "        x_query (np.ndarray): Single query point, shape (D,)\n",
    "    \n",
    "    Returns:\n",
    "        np.ndarray: Vector of distances, shape (N,)\n",
    "    \"\"\"\n",
    "    # Subtract query point from each sample (broadcasting)\n",
    "    diff = X - x_query  # shape: (N, D)\n",
    "    \n",
    "    # Square differences, sum over features, then square root\n",
    "    return np.sqrt(np.sum(diff ** 2, axis=1))  # shape: (N,)\n",
    "\n",
    "\n",
    "def knn_predict(x_query, X, y, k):\n",
    "    \"\"\"\n",
    "    Predict the class of a single query point using K-Nearest Neighbours.\n",
    "    \n",
    "    Args:\n",
    "        x_query (np.ndarray): Single query point, shape (D,)\n",
    "        X (np.ndarray): Training data, shape (N, D)\n",
    "        y (np.ndarray): Training labels, shape (N, 1) or (N,)\n",
    "        k (int): Number of neighbours to consider\n",
    "    \n",
    "    Returns:\n",
    "        int: Predicted class label\n",
    "    \"\"\"\n",
    "    # 1. Compute distances to all training points\n",
    "    dists = euclidean_distances(X, x_query)\n",
    "    \n",
    "    # 2. Find indices of the k nearest neighbours\n",
    "    nearest_idx = np.argsort(dists)[:k]\n",
    "    \n",
    "    # 3. Extract their labels\n",
    "    nearest_labels = y[nearest_idx].ravel()\n",
    "    \n",
    "    # 4. Count frequency of each label\n",
    "    counts = np.bincount(nearest_labels.astype(int))\n",
    "    \n",
    "    # 5. Return label with highest count\n",
    "    return np.argmax(counts)\n",
    "\n",
    "\n",
    "def knn_batch(X_query, X, y, k):\n",
    "    \"\"\"\n",
    "    Predict the classes for multiple query points.\n",
    "    \n",
    "    Args:\n",
    "        X_query (np.ndarray): Query set, shape (M, D)\n",
    "        X (np.ndarray): Training data, shape (N, D)\n",
    "        y (np.ndarray): Training labels, shape (N, 1)\n",
    "        k (int): Number of neighbours to consider\n",
    "    \n",
    "    Returns:\n",
    "        np.ndarray: Predicted labels for X_query, shape (M, 1)\n",
    "    \"\"\"\n",
    "    # Predict each query point one by one\n",
    "    preds = [knn_predict(x, X, y, k) for x in X_query]\n",
    "    \n",
    "    # Convert list to column vector\n",
    "    return np.array(preds).reshape(-1, 1)\n",
    "\n",
    "\n",
    "def accuracy(y_true, y_pred):\n",
    "    \"\"\"\n",
    "    Calculate accuracy of predictions.\n",
    "    \n",
    "    Args:\n",
    "        y_true (np.ndarray): Ground truth labels, shape (N, 1) or (N,)\n",
    "        y_pred (np.ndarray): Predicted labels, shape (N, 1) or (N,)\n",
    "    \n",
    "    Returns:\n",
    "        float: Accuracy score (0 to 1)\n",
    "    \"\"\"\n",
    "    return np.mean(y_true == y_pred)\n"
   ]
  },
  {
   "cell_type": "markdown",
   "id": "bf52c236",
   "metadata": {},
   "source": [
    "### 4. Baseline accuracy for several k values"
   ]
  },
  {
   "cell_type": "code",
   "execution_count": 10,
   "id": "910ec076",
   "metadata": {},
   "outputs": [
    {
     "name": "stdout",
     "output_type": "stream",
     "text": [
      "k =  1  |  training accuracy = 1.000\n",
      "k =  3  |  training accuracy = 1.000\n",
      "k =  5  |  training accuracy = 1.000\n",
      "k = 15  |  training accuracy = 1.000\n"
     ]
    }
   ],
   "source": [
    "for k in [1, 3, 5, 15]:\n",
    "    y_pred = knn_batch(X_train, X_train, y_train, k)  # Predict labels for training data\n",
    "    print(f'k = {k:2d}  |  training accuracy = {accuracy(y_train, y_pred):.3f}')"
   ]
  },
  {
   "cell_type": "markdown",
   "id": "a9e6cf44",
   "metadata": {},
   "source": [
    "### 5. Visualising decision boundaries"
   ]
  },
  {
   "cell_type": "code",
   "execution_count": 11,
   "id": "6d874532",
   "metadata": {},
   "outputs": [
    {
     "data": {
      "image/png": "[encoded data removed]",
      "text/plain": [
       "<Figure size 1200x400 with 3 Axes>"
      ]
     },
     "metadata": {},
     "output_type": "display_data"
    }
   ],
   "source": [
    "def plot_decision_boundary(k, ax):\n",
    "    \"\"\"\n",
    "    Plot decision boundary for KNN with a given 'k' on the first two features.\n",
    "\n",
    "    Args:\n",
    "        k (int): Number of neighbours\n",
    "        ax (matplotlib axis): Axis to plot on\n",
    "    \"\"\"\n",
    "    # Define plotting range for first two features\n",
    "    x_min, x_max = X_train[:, 0].min() - 1, X_train[:, 0].max() + 1\n",
    "    y_min, y_max = X_train[:, 1].min() - 1, X_train[:, 1].max() + 1\n",
    "\n",
    "    # Create a mesh grid (graph paper)\n",
    "    xx, yy = np.meshgrid(np.linspace(x_min, x_max, 200),\n",
    "                         np.linspace(y_min, y_max, 200))\n",
    "\n",
    "    # Create 2D input grid\n",
    "    grid = np.c_[xx.ravel(), yy.ravel()]\n",
    "\n",
    "    # 🔧 FIXED: use only first 2 features of training data\n",
    "    preds = knn_batch(grid, X_train[:, :2], y_train, k)\n",
    "    Z = preds.reshape(xx.shape)\n",
    "\n",
    "    # Draw decision boundaries\n",
    "    ax.contourf(xx, yy, Z, alpha=0.3, cmap='coolwarm')\n",
    "\n",
    "    # Plot class 0 and class 1 (first two features only)\n",
    "    ax.scatter(X0[:, 0], X0[:, 1], label='class 0', edgecolor='k')\n",
    "    ax.scatter(X1[:, 0], X1[:, 1], label='class 1', edgecolor='k')\n",
    "\n",
    "    ax.set_title(f'k = {k}')\n",
    "    ax.set_xlim(x_min, x_max)\n",
    "    ax.set_ylim(y_min, y_max)\n",
    "    ax.set_aspect('equal')\n",
    "\n",
    "\n",
    "# Create subplots for 3 k values\n",
    "fig, axes = plt.subplots(1, 3, figsize=(12, 4))\n",
    "for ax, k in zip(axes, [1, 5, 15]):\n",
    "    plot_decision_boundary(k, ax)\n",
    "\n",
    "axes[0].legend()\n",
    "plt.suptitle('k-NN decision boundaries')\n",
    "plt.show()\n"
   ]
  },
  {
   "cell_type": "markdown",
   "id": "796ed29e",
   "metadata": {},
   "source": [
    "### 6. Quick cross‑validation for optimal k\n",
    "\n",
    "Below we perform a trivial **leave‑one‑out** CV to choose k that maximises\n",
    "validation accuracy.  (Costly for large data but fine here.)\n"
   ]
  },
  {
   "cell_type": "code",
   "execution_count": 12,
   "id": "b0f84b48",
   "metadata": {},
   "outputs": [
    {
     "name": "stdout",
     "output_type": "stream",
     "text": [
      "k values: [1, 3, 5, 7, 9, 11, 13, 15]\n",
      "LOO‑CV scores: [1.0, 1.0, 1.0, 1.0, 1.0, 1.0, 1.0, 1.0]\n",
      "Best k (highest CV accuracy) = 1\n",
      "k values: [1, 3, 5, 7, 9, 11, 13, 15]\n",
      "LOO‑CV scores: [1.0, 1.0, 1.0, 1.0, 1.0, 1.0, 1.0, 1.0]\n",
      "Best k (highest CV accuracy) = 1\n"
     ]
    }
   ],
   "source": [
    "def loo_cv_score(k):\n",
    "    \"\"\"\n",
    "    Perform Leave-One-Out Cross-Validation (LOO-CV) to estimate\n",
    "    KNN performance for a specific k.\n",
    "\n",
    "    Args:\n",
    "        k (int): Number of neighbours\n",
    "\n",
    "    Returns:\n",
    "        float: Cross-validation accuracy score\n",
    "    \"\"\"\n",
    "    correct = 0                      # Count of correct predictions\n",
    "    N = len(X_train)                 # Total number of training samples\n",
    "\n",
    "    for i in range(N):\n",
    "        # Remove the i-th point from training data\n",
    "        X_loo = np.delete(X_train, i, axis=0)   # shape: (N-1, D)\n",
    "        y_loo = np.delete(y_train, i, axis=0)   # shape: (N-1, 1)\n",
    "\n",
    "        # Predict label for the left-out point\n",
    "        pred = knn_predict(X_train[i], X_loo, y_loo, k)\n",
    "\n",
    "        # Compare prediction with true label\n",
    "        if pred == y_train[i, 0]:\n",
    "            correct += 1  # Count as correct prediction\n",
    "\n",
    "    return correct / N  # Accuracy = correct predictions / total samples\n",
    "\n",
    "\n",
    "k_values = range(1, 16, 2)\n",
    "scores = [loo_cv_score(k) for k in k_values]\n",
    "\n",
    "best_k = k_values[int(np.argmax(scores))]\n",
    "print(\"k values:\", list(k_values))\n",
    "print(\"LOO‑CV scores:\", [round(s,3) for s in scores])\n",
    "print(f\"Best k (highest CV accuracy) = {best_k}\")\n",
    "\n",
    "# Define the list of k values to evaluate\n",
    "k_values = range(1, 16, 2)  # [1, 3, 5, ..., 15]\n",
    "\n",
    "# Compute LOO-CV score for each k\n",
    "scores = [loo_cv_score(k) for k in k_values]\n",
    "\n",
    "# Find the k with the highest score\n",
    "best_k = k_values[int(np.argmax(scores))]\n",
    "\n",
    "# Print results\n",
    "print(\"k values:\", list(k_values))\n",
    "print(\"LOO‑CV scores:\", [round(s, 3) for s in scores])\n",
    "print(f\"Best k (highest CV accuracy) = {best_k}\")\n"
   ]
  },
  {
   "cell_type": "markdown",
   "id": "02fbc39e",
   "metadata": {},
   "source": [
    "### 7. Next steps\n",
    "\n",
    "* **KD‑Tree / Ball‑Tree** – accelerate nearest‑neighbour search for higher‑dim data.  \n",
    "* **Distance metrics** – try Manhattan, cosine, Minkowski, learned metrics…  \n",
    "* **Weighted voting** – weight neighbours by inverse distance.  \n",
    "* **Regression variant** – output mean of neighbour targets instead of majority vote.  \n",
    "* **Dimensionality reduction** – PCA or t‑SNE to mitigate the *curse of dimensionality*.\n"
   ]
  },
  {
   "cell_type": "markdown",
   "id": "d26cf299",
   "metadata": {},
   "source": []
  }
 ],
 "metadata": {
  "kernelspec": {
   "display_name": "Python 3",
   "language": "python",
   "name": "python3"
  },
  "language_info": {
   "codemirror_mode": {
    "name": "ipython",
    "version": 3
   },
   "file_extension": ".py",
   "mimetype": "text/x-python",
   "name": "python",
   "nbconvert_exporter": "python",
   "pygments_lexer": "ipython3",
   "version": "3.13.1"
  }
 },
 "nbformat": 4,
 "nbformat_minor": 5
}
