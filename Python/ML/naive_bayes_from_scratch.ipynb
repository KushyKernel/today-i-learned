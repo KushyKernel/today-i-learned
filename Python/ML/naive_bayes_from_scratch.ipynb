{
 "cells": [
  {
   "cell_type": "markdown",
   "id": "6db1f345",
   "metadata": {},
   "source": [
    "# Naive Bayes — From Scratch\n",
    "\n",
    "A **NumPy‑only** implementation of **Gaussian Naive Bayes** for binary\n",
    "classification.\n",
    "\n",
    "We will:\n",
    "\n",
    "1. Generate a 2‑D synthetic dataset  \n",
    "2. Derive the parameter estimates (class priors, per‑feature means & variances)  \n",
    "3. Implement prediction using log‑probabilities  \n",
    "4. Measure accuracy & visualise the decision boundary  "
   ]
  },
  {
   "cell_type": "markdown",
   "id": "f6f241d2",
   "metadata": {},
   "source": [
    "## 1. Quick Theory Recap\n",
    "\n",
    "For a feature vector **x** with *D* dimensions and a class label  \n",
    "\\(C \\in \\{0,1,\\dots,K-1\\}\\):\n",
    "\n",
    "\\[\n",
    "P(C\\,|\\,\\mathbf{x})\n",
    "\\;\\propto\\;\n",
    "P(C)\\,\n",
    "\\prod_{j=1}^{D} P(x_j\\,|\\,C)\n",
    "\\]\n",
    "\n",
    "The **naive** assumption is that features \\(x_j\\) are **conditionally\n",
    "independent** given the class.\n",
    "\n",
    "For **Gaussian Naive Bayes** we model each feature with a univariate normal\n",
    "distribution:\n",
    "\n",
    "\\[\n",
    "P(x_j\\,|\\,C)\n",
    "=\n",
    "\\mathcal{N}\\bigl(x_j\\,;\\,\\mu_{Cj},\\,\\sigma_{Cj}^2\\bigr)\n",
    "\\]\n",
    "\n",
    "During training we estimate, for every class *C* and feature *j*:\n",
    "\n",
    "* Prior \\(P(C) = N_C / N\\)  \n",
    "* Mean \\(\\mu_{Cj}\\)  \n",
    "* Variance \\(\\sigma_{Cj}^2\\)  (use unbiased denominator \\(N_C\\))\n",
    "\n",
    "At prediction time we use **log‑probabilities** to avoid underflow:\n",
    "\n",
    "\\[\n",
    "\\log P(C\\,|\\,\\mathbf{x})\n",
    "=\n",
    "\\log P(C)\n",
    "\\;+\\;\n",
    "\\sum_{j=1}^{D}\n",
    "\\log\n",
    "\\mathcal{N}\\bigl(x_j\\,;\\,\\mu_{Cj},\\,\\sigma_{Cj}^2\\bigr)\n",
    "\\]\n"
   ]
  },
  {
   "cell_type": "markdown",
   "id": "3e71fe1b",
   "metadata": {},
   "source": [
    "### 2. Imports & synthetic data"
   ]
  },
  {
   "cell_type": "code",
   "execution_count": 1,
   "id": "77509a78",
   "metadata": {},
   "outputs": [
    {
     "name": "stdout",
     "output_type": "stream",
     "text": [
      "Dataset shapes -> X: (300, 2), y: (300, 1)\n"
     ]
    }
   ],
   "source": [
    "\n",
    "import numpy as np\n",
    "import matplotlib.pyplot as plt\n",
    "\n",
    "# 2.1 Reproducibility\n",
    "np.random.seed(0)\n",
    "\n",
    "# 2.2 Two classes, independent Gaussian features\n",
    "N_PER_CLASS = 150\n",
    "# Class 0: centred at (-2,0)\n",
    "mean0 = np.array([-2.0, 0.0])\n",
    "std0  = np.array([1.0, 1.5])  # std-dev per feature\n",
    "\n",
    "# Class 1: centred at (2,3)\n",
    "mean1 = np.array([2.0, 3.0])\n",
    "std1  = np.array([1.2, 1.0])\n",
    "\n",
    "# Draw samples feature‑wise (diagonal covariance)\n",
    "X0 = np.random.randn(N_PER_CLASS, 2) * std0 + mean0\n",
    "X1 = np.random.randn(N_PER_CLASS, 2) * std1 + mean1\n",
    "\n",
    "X = np.vstack([X0, X1])                 # shape (N,2)  with N = 300\n",
    "y = np.hstack([np.zeros(N_PER_CLASS),   # class 0\n",
    "               np.ones(N_PER_CLASS)])    # class 1\n",
    "y = y.astype(int).reshape(-1, 1)\n",
    "\n",
    "print(f'Dataset shapes -> X: {X.shape}, y: {y.shape}')\n"
   ]
  },
  {
   "cell_type": "markdown",
   "id": "2a9d9735",
   "metadata": {},
   "source": [
    "### 3. Helper functions"
   ]
  },
  {
   "cell_type": "code",
   "execution_count": 2,
   "id": "4008758d",
   "metadata": {},
   "outputs": [],
   "source": [
    "def fit_gaussian_nb(X, y):\n",
    "    \"\"\"\n",
    "    Train Gaussian Naive Bayes classifier.\n",
    "    Estimate class priors, means, and variances.\n",
    "\n",
    "    Returns:\n",
    "        priors  : class probabilities (shape: [K])\n",
    "        means   : feature means per class (shape: [K, D])\n",
    "        vars_   : feature variances per class (shape: [K, D])\n",
    "    \"\"\"\n",
    "    classes = np.unique(y)       # Get all unique class labels\n",
    "    K = len(classes)             # Number of classes\n",
    "    D = X.shape[1]               # Number of features\n",
    "\n",
    "    # Prepare space for priors, means, and variances\n",
    "    priors = np.zeros(K)\n",
    "    means  = np.zeros((K, D))\n",
    "    vars_  = np.zeros((K, D))\n",
    "    eps = 1e-9  # Small constant to prevent divide-by-zero\n",
    "\n",
    "    # Loop through each class and compute stats\n",
    "    for idx, c in enumerate(classes):\n",
    "        X_c = X[y.ravel() == c]            # Get samples for class c\n",
    "        priors[idx] = len(X_c) / len(X)    # Prior = class proportion\n",
    "        means[idx]  = X_c.mean(axis=0)     # Mean of each feature\n",
    "        vars_[idx]  = X_c.var(axis=0) + eps  # Variance of each feature (+eps)\n",
    "\n",
    "    return priors, means, vars_\n",
    "\n",
    "def gaussian_logpdf(x, mean, var):\n",
    "    \"\"\"\n",
    "    Compute log of Gaussian probability density function (element-wise).\n",
    "    This is used instead of raw probabilities to avoid underflow.\n",
    "\n",
    "    Args:\n",
    "        x     : input sample(s)\n",
    "        mean  : mean of Gaussian\n",
    "        var   : variance of Gaussian\n",
    "\n",
    "    Returns:\n",
    "        log probability for each feature\n",
    "    \"\"\"\n",
    "    return -0.5 * (np.log(2 * np.pi * var) + ((x - mean) ** 2) / var)\n",
    "\n",
    "def predict_gaussian_nb(X, priors, means, vars_):\n",
    "    \"\"\"\n",
    "    Predict class labels for a batch of inputs using Gaussian Naive Bayes.\n",
    "\n",
    "    Args:\n",
    "        X      : input samples (shape: [N, D])\n",
    "        priors : class priors (shape: [K])\n",
    "        means  : per-class means (shape: [K, D])\n",
    "        vars_  : per-class variances (shape: [K, D])\n",
    "\n",
    "    Returns:\n",
    "        Predicted labels (shape: [N, 1])\n",
    "    \"\"\"\n",
    "    log_priors = np.log(priors)         # Convert priors to log scale\n",
    "    K, D = means.shape                  # Number of classes and features\n",
    "    N = X.shape[0]                      # Number of input samples\n",
    "    log_probs = np.zeros((N, K))        # Log-probabilities for each class\n",
    "\n",
    "    # Compute log-likelihood + log-prior for each class\n",
    "    for k in range(K):\n",
    "        # For class k: compute log-likelihood for each sample\n",
    "        log_lik = gaussian_logpdf(X, means[k], vars_[k]).sum(axis=1)\n",
    "        log_probs[:, k] = log_priors[k] + log_lik  # Total log-probability\n",
    "\n",
    "    # Pick class with highest probability\n",
    "    return np.argmax(log_probs, axis=1).reshape(-1, 1)\n",
    "\n",
    "def accuracy(y_true, y_pred):\n",
    "    \"\"\"\n",
    "    Calculate classification accuracy.\n",
    "\n",
    "    Args:\n",
    "        y_true : actual labels\n",
    "        y_pred : predicted labels\n",
    "\n",
    "    Returns:\n",
    "        float: proportion of correct predictions\n",
    "    \"\"\"\n",
    "    return np.mean(y_true == y_pred)\n"
   ]
  },
  {
   "cell_type": "markdown",
   "id": "5fd54430",
   "metadata": {},
   "source": [
    "### 4. Train the model"
   ]
  },
  {
   "cell_type": "code",
   "execution_count": 3,
   "id": "7550e486",
   "metadata": {},
   "outputs": [
    {
     "name": "stdout",
     "output_type": "stream",
     "text": [
      "Class priors   : [0.5 0.5]\n",
      "Means per class:\n",
      "[[-2.03166287  0.13008303]\n",
      " [ 1.83288061  2.86440489]]\n",
      "Variances per class:\n",
      "[[1.01690509 2.20251074]\n",
      " [1.47010028 0.97714232]]\n"
     ]
    }
   ],
   "source": [
    "# Train the Gaussian Naive Bayes model:\n",
    "# This calculates class priors, means, and variances for each feature.\n",
    "priors, means, vars_ = fit_gaussian_nb(X, y)\n",
    "\n",
    "# Print the prior probabilities for each class\n",
    "# These show how often each class appears in the data.\n",
    "print('Class priors   :', priors)\n",
    "\n",
    "# Print the mean of each feature for each class\n",
    "# Each row corresponds to a class, each column to a feature.\n",
    "print('Means per class:')\n",
    "print(means)\n",
    "\n",
    "# Print the variance of each feature for each class\n",
    "# Variance shows how spread out the data is for each feature.\n",
    "print('Variances per class:')\n",
    "print(vars_)\n",
    "\n"
   ]
  },
  {
   "cell_type": "markdown",
   "id": "0ac90af4",
   "metadata": {},
   "source": [
    "### 5. Accuracy on training data"
   ]
  },
  {
   "cell_type": "code",
   "execution_count": 4,
   "id": "c649ad0e",
   "metadata": {},
   "outputs": [
    {
     "name": "stdout",
     "output_type": "stream",
     "text": [
      "Training accuracy: 0.9733333333333334\n"
     ]
    }
   ],
   "source": [
    "# Use the trained model to predict labels for the training data\n",
    "y_pred = predict_gaussian_nb(X, priors, means, vars_)\n",
    "\n",
    "# Calculate and print how many predictions match the true labels\n",
    "print('Training accuracy:', accuracy(y, y_pred))\n"
   ]
  },
  {
   "cell_type": "markdown",
   "id": "13d09ab6",
   "metadata": {},
   "source": [
    "### 6. Visual decision boundary"
   ]
  },
  {
   "cell_type": "code",
   "execution_count": 5,
   "id": "c8b9c803",
   "metadata": {},
   "outputs": [
    {
     "data": {
      "image/png": "[encoded data removed]",
      "text/plain": [
       "<Figure size 600x600 with 1 Axes>"
      ]
     },
     "metadata": {},
     "output_type": "display_data"
    }
   ],
   "source": [
    "# ---------------------------------------------\n",
    "# 📦 Build a grid of points over the 2D feature space\n",
    "# This will let us predict the class at every location on the plot\n",
    "# ---------------------------------------------\n",
    "\n",
    "# Find the min and max values of the first feature (x-axis)\n",
    "x_min, x_max = X[:, 0].min() - 1, X[:, 0].max() + 1\n",
    "\n",
    "# Find the min and max values of the second feature (y-axis)\n",
    "y_min, y_max = X[:, 1].min() - 1, X[:, 1].max() + 1\n",
    "\n",
    "# Create a grid of 2D points across the entire space\n",
    "xx, yy = np.meshgrid(np.linspace(x_min, x_max, 300),\n",
    "                     np.linspace(y_min, y_max, 300))\n",
    "\n",
    "# Flatten the grid into a list of (x, y) points\n",
    "grid = np.c_[xx.ravel(), yy.ravel()]\n",
    "\n",
    "\n",
    "# ---------------------------------------------\n",
    "# 📊 Predict the class for each point in the grid\n",
    "# This shows how the model would classify the whole feature space\n",
    "# ---------------------------------------------\n",
    "\n",
    "Z = predict_gaussian_nb(grid, priors, means, vars_)\n",
    "\n",
    "# Reshape predictions back to match the 2D grid shape\n",
    "Z = Z.reshape(xx.shape)\n",
    "\n",
    "# ---------------------------------------------\n",
    "# 🖼️ Plot the decision boundary and data points\n",
    "# ---------------------------------------------\n",
    "\n",
    "plt.figure(figsize=(6, 6))\n",
    "\n",
    "# Draw filled contour map (decision regions)\n",
    "plt.contourf(xx, yy, Z, alpha=0.3, cmap='coolwarm')\n",
    "\n",
    "# Plot training data (class 0 and class 1)\n",
    "plt.scatter(X0[:, 0], X0[:, 1], label='class 0', edgecolor='k')\n",
    "plt.scatter(X1[:, 0], X1[:, 1], label='class 1', edgecolor='k')\n",
    "\n",
    "\n",
    "# Set plot limits and style\n",
    "plt.xlim(x_min, x_max)\n",
    "plt.ylim(y_min, y_max)\n",
    "plt.gca().set_aspect('equal')  # keep aspect ratio square\n",
    "plt.legend()\n",
    "plt.title('Gaussian Naive Bayes decision boundary')\n",
    "plt.grid(True, linestyle='--', alpha=0.3)\n",
    "plt.show()\n"
   ]
  },
  {
   "cell_type": "markdown",
   "id": "28a9e932",
   "metadata": {},
   "source": [
    "### 7. Confusion matrix"
   ]
  },
  {
   "cell_type": "code",
   "execution_count": 6,
   "id": "6bf18146",
   "metadata": {},
   "outputs": [
    {
     "name": "stdout",
     "output_type": "stream",
     "text": [
      "Confusion matrix:\n",
      " [[144   6]\n",
      " [  2 148]]\n"
     ]
    }
   ],
   "source": [
    "# Create a 2x2 matrix to count predictions:\n",
    "# Rows = actual classes, Columns = predicted classes\n",
    "conf = np.zeros((2, 2), dtype=int)\n",
    "\n",
    "# Loop through all true and predicted labels\n",
    "for true, pred in zip(y.ravel(), y_pred.ravel()):\n",
    "    # Convert class labels to integers and update the count\n",
    "    conf[int(true), int(pred)] += 1\n",
    "    \n",
    "# Print the confusion matrix\n",
    "print('Confusion matrix:\\n', conf)\n"
   ]
  },
  {
   "cell_type": "markdown",
   "id": "cc1f8c3a",
   "metadata": {},
   "source": [
    "### 8. Next steps\n",
    "\n",
    "* **Multinomial / Bernoulli Naive Bayes** – great for discrete word counts and\n",
    "  binary feature vectors.  \n",
    "* **Shared variance (diagonal vs full)** – using the same variance across\n",
    "  classes can improve robustness when data is scarce.  \n",
    "* **Feature selection** – drop correlated or uninformative features to better\n",
    "  satisfy the independence assumption.  \n",
    "* **Laplace smoothing** – critical for discrete variants to avoid zero‑prob\n",
    "  issues.  \n",
    "* **Incremental updates** – priors, means, and variances can be updated online\n",
    "  as new data arrives without retraining from scratch.\n"
   ]
  }
 ],
 "metadata": {
  "kernelspec": {
   "display_name": "Python 3",
   "language": "python",
   "name": "python3"
  },
  "language_info": {
   "codemirror_mode": {
    "name": "ipython",
    "version": 3
   },
   "file_extension": ".py",
   "mimetype": "text/x-python",
   "name": "python",
   "nbconvert_exporter": "python",
   "pygments_lexer": "ipython3",
   "version": "3.13.1"
  }
 },
 "nbformat": 4,
 "nbformat_minor": 5
}
